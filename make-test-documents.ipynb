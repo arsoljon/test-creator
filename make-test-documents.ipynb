{
 "cells": [
  {
   "cell_type": "code",
   "execution_count": null,
   "id": "08c77a2a",
   "metadata": {},
   "outputs": [],
   "source": [
    "#create a test document that copies and paste from a list of question and answers.\n",
    "#Must read from a dataset that holds the questions and their answers. \n",
    "#Must place question and answer into a actual document.\n",
    "#Document Format: 12pt font, Helvetica, 1.5 spacing, default margin, No header, bottom center page numbering.\n",
    "\n",
    "#read data\n",
    "\n",
    "#make document\n",
    "\n",
    "\n",
    "\n"
   ]
  },
  {
   "cell_type": "code",
   "execution_count": 1,
   "id": "3b354da8",
   "metadata": {},
   "outputs": [
    {
     "name": "stdout",
     "output_type": "stream",
     "text": [
      "Current Working Directory: C:\\Users\\jonat\\Documents\\projects\\Myrines-stuff\\test_creator\n"
     ]
    }
   ],
   "source": [
    "import os\n",
    "\n",
    "# Get the current working directory\n",
    "current_path = os.getcwd()\n",
    "print(\"Current Working Directory:\", current_path)"
   ]
  },
  {
   "cell_type": "code",
   "execution_count": 10,
   "id": "0bc9510c",
   "metadata": {},
   "outputs": [
    {
     "name": "stdout",
     "output_type": "stream",
     "text": [
      "Requirement already satisfied: reportlab in c:\\users\\jonat\\anaconda3\\lib\\site-packages (4.0.8)\n",
      "Requirement already satisfied: chardet in c:\\users\\jonat\\anaconda3\\lib\\site-packages (from reportlab) (4.0.0)\n",
      "Requirement already satisfied: pillow>=9.0.0 in c:\\users\\jonat\\anaconda3\\lib\\site-packages (from reportlab) (9.0.1)\n",
      "Note: you may need to restart the kernel to use updated packages.\n"
     ]
    }
   ],
   "source": [
    "pip install reportlab "
   ]
  },
  {
   "cell_type": "code",
   "execution_count": 11,
   "id": "4abeb26f",
   "metadata": {},
   "outputs": [],
   "source": [
    "from reportlab.lib.pagesizes import letter\n",
    "from reportlab.pdfgen import canvas\n",
    "from PIL import Image\n",
    "from io import BytesIO\n",
    "from fpdf import FPDF\n",
    "\n"
   ]
  },
  {
   "cell_type": "code",
   "execution_count": 47,
   "id": "ae4114e6",
   "metadata": {},
   "outputs": [],
   "source": [
    "def add_image_to_pdf(pdf, image_path, x, y, target_width):\n",
    "    original_width, original_height = get_image_dimensions(image_path)\n",
    "    target_width, target_height = calculate_proportional_size(original_width, original_height, target_width)\n",
    "    pdf.drawInlineImage(image_path, x, y-target_height, width=target_width, height=target_height)\n"
   ]
  },
  {
   "cell_type": "code",
   "execution_count": 13,
   "id": "2bda14c3",
   "metadata": {},
   "outputs": [],
   "source": [
    "def calculate_proportional_size(original_width, original_height, target_width):\n",
    "    aspect_ratio = original_width / original_height\n",
    "    target_height = target_width / aspect_ratio\n",
    "    return target_width, target_height"
   ]
  },
  {
   "cell_type": "code",
   "execution_count": 17,
   "id": "1f097e4a",
   "metadata": {},
   "outputs": [],
   "source": [
    "def get_image_dimensions(image_path):\n",
    "    with Image.open(image_path) as img:\n",
    "        width, height = img.size\n",
    "    return width, height"
   ]
  },
  {
   "cell_type": "code",
   "execution_count": 51,
   "id": "4732d458",
   "metadata": {},
   "outputs": [
    {
     "name": "stdout",
     "output_type": "stream",
     "text": [
      "792.0\n",
      "PDF created: my_document_with_images.pdf\n"
     ]
    }
   ],
   "source": [
    "# Create a PDF document using reportlab\n",
    "# Create a PDF document using reportlab\n",
    "pdf_path = 'my_document_with_images.pdf'\n",
    "pdf = canvas.Canvas(pdf_path, pagesize=letter)\n",
    "pdf.setTitle(\"My Document with Images\")\n",
    "\n",
    "# Add text to the document\n",
    "#pdf.drawString(100, 750, 'My Document with Images')\n",
    "#pdf.drawString(100, 730, 'This is a paragraph in my document.')\n",
    "\n",
    "# Add images to the document without margins\n",
    "question_paths = []\n",
    "answer_paths = []\n",
    "image_paths = ['./statmethods/q1/statmethods-q1-1.png','./statmethods/q1/statmethods-a1-1.png']\n",
    "\n",
    "y_position = pdf._pagesize[1]  # Set the initial y-position to the initial height of pdf\n",
    "print(y_position)\n",
    "target_width = 400  # Set the desired width for the images\n",
    "\n",
    "og_width, og_height = get_image_dimensions(image_path)\n",
    "\n",
    "for image_path in image_paths:\n",
    "    og_width, og_height = get_image_dimensions(image_path)\n",
    "    add_image_to_pdf(pdf, image_path, 50, y_position, target_width)\n",
    "    y_position -= target_width  # Adjust the y-position for the next image\n",
    "\n",
    "pdf.save()\n",
    "print(f\"PDF created: {pdf_path}\")"
   ]
  },
  {
   "cell_type": "code",
   "execution_count": null,
   "id": "951213c7",
   "metadata": {},
   "outputs": [],
   "source": []
  }
 ],
 "metadata": {
  "kernelspec": {
   "display_name": "Python 3 (ipykernel)",
   "language": "python",
   "name": "python3"
  },
  "language_info": {
   "codemirror_mode": {
    "name": "ipython",
    "version": 3
   },
   "file_extension": ".py",
   "mimetype": "text/x-python",
   "name": "python",
   "nbconvert_exporter": "python",
   "pygments_lexer": "ipython3",
   "version": "3.9.12"
  }
 },
 "nbformat": 4,
 "nbformat_minor": 5
}
