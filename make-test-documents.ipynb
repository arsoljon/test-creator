{
 "cells": [
  {
   "cell_type": "code",
   "execution_count": 1,
   "id": "08c77a2a",
   "metadata": {},
   "outputs": [],
   "source": [
    "#create a test document that copies and paste from a list of question and answers.\n",
    "#Must read from a dataset that holds the questions and their answers. \n",
    "#Must place question and answer into a actual document.\n",
    "#Document Format: 12pt font, Helvetica, 1.5 spacing, default margin, No header, bottom center page numbering.\n",
    "\n",
    "#read data\n",
    "\n",
    "#make document\n",
    "\n",
    "\n",
    "\n"
   ]
  },
  {
   "cell_type": "code",
   "execution_count": 2,
   "id": "3b354da8",
   "metadata": {},
   "outputs": [
    {
     "name": "stdout",
     "output_type": "stream",
     "text": [
      "Current Working Directory: C:\\Users\\jonat\\Documents\\projects\\Myrines-stuff\\test_creator\n"
     ]
    }
   ],
   "source": [
    "import os\n",
    "\n",
    "# Get the current working directory\n",
    "current_path = os.getcwd()\n",
    "print(\"Current Working Directory:\", current_path)"
   ]
  },
  {
   "cell_type": "code",
   "execution_count": 3,
   "id": "0bc9510c",
   "metadata": {},
   "outputs": [
    {
     "name": "stdout",
     "output_type": "stream",
     "text": [
      "Requirement already satisfied: reportlab in c:\\users\\jonat\\anaconda3\\lib\\site-packages (4.0.8)\n",
      "Requirement already satisfied: chardet in c:\\users\\jonat\\anaconda3\\lib\\site-packages (from reportlab) (4.0.0)\n",
      "Requirement already satisfied: pillow>=9.0.0 in c:\\users\\jonat\\anaconda3\\lib\\site-packages (from reportlab) (9.0.1)\n",
      "Note: you may need to restart the kernel to use updated packages.\n"
     ]
    }
   ],
   "source": [
    "pip install reportlab "
   ]
  },
  {
   "cell_type": "code",
   "execution_count": 4,
   "id": "4abeb26f",
   "metadata": {},
   "outputs": [],
   "source": [
    "from reportlab.lib.pagesizes import letter\n",
    "from reportlab.pdfgen import canvas\n",
    "from PIL import Image\n",
    "from io import BytesIO\n",
    "from fpdf import FPDF\n",
    "\n"
   ]
  },
  {
   "cell_type": "code",
   "execution_count": 5,
   "id": "95ea0d32",
   "metadata": {},
   "outputs": [],
   "source": [
    "import os"
   ]
  },
  {
   "cell_type": "code",
   "execution_count": 6,
   "id": "a25aabd0",
   "metadata": {},
   "outputs": [],
   "source": [
    "folder_path = './statmethods/'\n",
    "image_paths = []\n",
    "\n",
    "# List all questions(subfolders)\n",
    "all_questions = os.listdir(folder_path)\n",
    "for question in all_questions:\n",
    "    # save the path for a single question\n",
    "    question_path = os.path.join(folder_path, question)\n",
    "    question_path += '/'\n",
    "    pictures = os.listdir(question_path)\n",
    "    set_of_pictures = []\n",
    "    # save the path of each picture for a single question into a set of pictures\n",
    "    for picture in pictures:\n",
    "        picture_path = question_path + picture\n",
    "        set_of_pictures.append(picture_path)\n",
    "    image_paths += [set_of_pictures]"
   ]
  },
  {
   "cell_type": "code",
   "execution_count": 7,
   "id": "10d9bd4e",
   "metadata": {},
   "outputs": [
    {
     "name": "stdout",
     "output_type": "stream",
     "text": [
      "[[5, 1, 25, 15, 19, 14], [4, 10, 17, 24, 12, 20], [7, 6, 22, 11, 16, 23], [9, 8, 18, 13, 21, 26], [3, 2, 27, 24, 11, 13]]\n"
     ]
    }
   ],
   "source": [
    "import random\n",
    "#setup conditions for making individual tests\n",
    "# Part A : 1-10\n",
    "# Part B : 11-27\n",
    "# Make 5 unique tests with 2 questions from A and 4 questions from B. \n",
    "# on the 5th test repick random questions from a full part B list. \n",
    "a = [1,2,3,4,5,6,7,8,9,10]\n",
    "b = [11,12,13,14,15,16,17,18,19,20,21,22,23,24,25,26,27]\n",
    "total_a = len(a)\n",
    "total_b = len(b)\n",
    "test1 = []\n",
    "test2 = []\n",
    "test3 = []\n",
    "test4 = []\n",
    "test5 = []\n",
    "for index,item in enumerate(a):\n",
    "    random_numbers = random.sample(a, 2)\n",
    "    if index == 0: \n",
    "        test1 = random_numbers\n",
    "    if index == 1: \n",
    "        test2 = random_numbers\n",
    "    if index == 2: \n",
    "        test3 = random_numbers\n",
    "    if index == 3: \n",
    "        test4 = random_numbers\n",
    "    a.remove(random_numbers[0])\n",
    "    a.remove(random_numbers[1])\n",
    "test5 = random.sample(a,2)\n",
    "\n",
    "for index,item in enumerate(b):\n",
    "    random_numbers = random.sample(b, 4)\n",
    "    if index == 0: \n",
    "        test1 += random_numbers\n",
    "    if index == 1:\n",
    "        test2 += random_numbers\n",
    "    if index == 2: \n",
    "        test3 += random_numbers\n",
    "    if index == 3: \n",
    "        test4 += random_numbers\n",
    "    b.remove(random_numbers[0])\n",
    "    b.remove(random_numbers[1])\n",
    "    b.remove(random_numbers[2])\n",
    "    b.remove(random_numbers[3])\n",
    "test5 += b + [random.choice(test2[2:5])] + [random.choice(test3[2:5])] + [random.choice(test4[2:5])]   \n",
    "all_tests = [test1, test2, test3, test4, test5]\n",
    "print(all_tests)"
   ]
  },
  {
   "cell_type": "code",
   "execution_count": 8,
   "id": "ae4114e6",
   "metadata": {},
   "outputs": [],
   "source": [
    "def add_image_to_pdf(pdf, image_path, x, y, target_width):\n",
    "    original_width, original_height = get_image_dimensions(image_path)\n",
    "    target_width, target_height = calculate_proportional_size(original_width, original_height, target_width)\n",
    "    pdf.drawInlineImage(image_path, x, y-target_height, width=target_width, height=target_height)\n"
   ]
  },
  {
   "cell_type": "code",
   "execution_count": 9,
   "id": "2bda14c3",
   "metadata": {},
   "outputs": [],
   "source": [
    "def calculate_proportional_size(original_width, original_height, target_width):\n",
    "    aspect_ratio = original_width / original_height\n",
    "    target_height = target_width / aspect_ratio\n",
    "    return target_width, target_height"
   ]
  },
  {
   "cell_type": "code",
   "execution_count": 10,
   "id": "1f097e4a",
   "metadata": {},
   "outputs": [],
   "source": [
    "def get_image_dimensions(image_path):\n",
    "    with Image.open(image_path) as img:\n",
    "        width, height = img.size\n",
    "    return width, height"
   ]
  },
  {
   "cell_type": "code",
   "execution_count": 11,
   "id": "054056a2",
   "metadata": {},
   "outputs": [],
   "source": [
    "def set_test(pdf, test, question, y_position,target_width):\n",
    "    for question_pics in question:\n",
    "        og_width, og_height = get_image_dimensions(question_pics)\n",
    "        target_width, target_height = calculate_proportional_size(og_width, og_height, target_width)\n",
    "        #if question_pics[30] == 'a':\n",
    "        if question_pics[30] == 'q':    #get questions only\n",
    "            add_image_to_pdf(pdf, question_pics, 50, y_position, target_width)\n",
    "            y_position -= target_height  # Adjust the y-position for the next image\n",
    "        if y_position - target_height < 100:  # Assuming a bottom margin of 50 units\n",
    "            pdf.showPage()  # Create a new page\n",
    "            y_position = pdf._pagesize[1]  # Reset the y-position for the new page\n",
    "    return y_position"
   ]
  },
  {
   "cell_type": "code",
   "execution_count": null,
   "id": "b8d92d38",
   "metadata": {},
   "outputs": [],
   "source": []
  },
  {
   "cell_type": "code",
   "execution_count": 12,
   "id": "4732d458",
   "metadata": {
    "scrolled": false
   },
   "outputs": [
    {
     "name": "stdout",
     "output_type": "stream",
     "text": [
      "792.0\n",
      "PDF created: all_tests.pdf\n"
     ]
    }
   ],
   "source": [
    "# Create a PDF document using reportlab\n",
    "pdf_path_1 = 'test1.pdf'\n",
    "pdf_path_2 = 'test2.pdf'\n",
    "pdf_path_3 = 'test3.pdf'\n",
    "pdf_path_4 = 'test4.pdf'\n",
    "pdf_path_5 = 'test5.pdf'\n",
    "pdf_1 = canvas.Canvas(pdf_path_1, pagesize=letter)\n",
    "pdf_2 = canvas.Canvas(pdf_path_2, pagesize=letter)\n",
    "pdf_3 = canvas.Canvas(pdf_path_3, pagesize=letter)\n",
    "pdf_4 = canvas.Canvas(pdf_path_4, pagesize=letter)\n",
    "pdf_5 = canvas.Canvas(pdf_path_5, pagesize=letter)\n",
    "pdf_1.setTitle(\"Test1\")\n",
    "pdf_2.setTitle(\"Test2\")\n",
    "pdf_3.setTitle(\"Test3\")\n",
    "pdf_4.setTitle(\"Test4\")\n",
    "pdf_5.setTitle(\"Test5\")\n",
    "pdf_path = 'all_tests.pdf'\n",
    "pdf = canvas.Canvas(pdf_path, pagesize=letter)\n",
    "pdf.setTitle(\"All Tests\")\n",
    "\n",
    "# Add text to the document\n",
    "#pdf.drawString(100, 750, 'My Document with Images')\n",
    "#pdf.drawString(100, 730, 'This is a paragraph in my document.')\n",
    "\n",
    "# Add images to the document without margins\n",
    "y_position = pdf._pagesize[1]  # Set the initial y-position to the initial height of pdf\n",
    "y_position_1 = pdf._pagesize[1]\n",
    "y_position_2 = pdf._pagesize[1]\n",
    "y_position_3 = pdf._pagesize[1]\n",
    "y_position_4 = pdf._pagesize[1]\n",
    "y_position_5 = pdf._pagesize[1]\n",
    "print(y_position)\n",
    "target_width = 400  # Set the desired width for the images\n",
    "\n",
    "#og_width, og_height = get_image_dimensions(image_path)\n",
    "#The indicies for the path name are as follows:\n",
    "#./statmethods/q01/statmethods-a1-2.png => 0 1 2 3 ... 28 29 *30* ...\n",
    "#Index 30 represents the whether the picture is for a question or answer.\n",
    "for index, question in enumerate(image_paths):\n",
    "    value_to_find = index+1\n",
    "    if value_to_find in test1: \n",
    "        y_position_1 = set_test(pdf_1, test1, question, y_position_1, target_width)\n",
    "        if y_position_1 != pdf._pagesize[1]: \n",
    "            pdf_1.showPage()\n",
    "        y_position_1 = pdf._pagesize[1]\n",
    "    if value_to_find in test2: \n",
    "        y_position_2 = set_test(pdf_2, test2, question, y_position_2, target_width)\n",
    "        if y_position_2 != pdf._pagesize[1]: \n",
    "            pdf_2.showPage()\n",
    "        y_position_2 = pdf._pagesize[1]\n",
    "    if value_to_find in test3: \n",
    "        y_position_3 = set_test(pdf_3, test3, question, y_position_3, target_width)\n",
    "        if y_position_3 != pdf._pagesize[1]: \n",
    "            pdf_3.showPage()\n",
    "        y_position_3 = pdf._pagesize[1]\n",
    "    if value_to_find in test4: \n",
    "        y_position_4 = set_test(pdf_4, test4, question, y_position_4, target_width)\n",
    "        if y_position_4 != pdf._pagesize[1]: \n",
    "            pdf_4.showPage()\n",
    "        y_position_4 = pdf._pagesize[1]\n",
    "    if value_to_find in test5: \n",
    "        y_position_5 = set_test(pdf_5, test5, question, y_position_5, target_width)\n",
    "        if y_position_5 != pdf._pagesize[1]: \n",
    "            pdf_5.showPage()\n",
    "        y_position_5 = pdf._pagesize[1]\n",
    "    if y_position != pdf._pagesize[1]: \n",
    "        pdf.showPage()\n",
    "    y_position = pdf._pagesize[1]\n",
    "pdf_1.save()\n",
    "pdf_2.save()\n",
    "pdf_3.save()\n",
    "pdf_4.save()\n",
    "pdf_5.save()\n",
    "print(f\"PDF created: {pdf_path}\")\n",
    "\n",
    "\n"
   ]
  },
  {
   "cell_type": "code",
   "execution_count": 13,
   "id": "951213c7",
   "metadata": {},
   "outputs": [
    {
     "name": "stdout",
     "output_type": "stream",
     "text": [
      "PDF created: all_tests.pdf\n"
     ]
    }
   ],
   "source": [
    "#This will make a pdf with all questions. \n",
    "for set_of_images in image_paths:\n",
    "    for image_path in set_of_images:\n",
    "        og_width, og_height = get_image_dimensions(image_path)\n",
    "        target_width, target_height = calculate_proportional_size(og_width, og_height, target_width)\n",
    "        if image_path[30] == 'q':    #get questions only\n",
    "            add_image_to_pdf(pdf, image_path, 50, y_position, target_width)\n",
    "            y_position -= target_height  # Adjust the y-position for the next image\n",
    "        if y_position - target_height < 100:  # Assuming a bottom margin of 50 units\n",
    "            pdf.showPage()  # Create a new page\n",
    "            y_position = pdf._pagesize[1]  # Reset the y-position for the new page\n",
    "    if y_position != pdf._pagesize[1]: \n",
    "        pdf.showPage()\n",
    "    y_position = pdf._pagesize[1]\n",
    "pdf.save()\n",
    "print(f\"PDF created: {pdf_path}\")"
   ]
  },
  {
   "cell_type": "code",
   "execution_count": null,
   "id": "eb0c4f87",
   "metadata": {},
   "outputs": [],
   "source": []
  }
 ],
 "metadata": {
  "kernelspec": {
   "display_name": "Python 3 (ipykernel)",
   "language": "python",
   "name": "python3"
  },
  "language_info": {
   "codemirror_mode": {
    "name": "ipython",
    "version": 3
   },
   "file_extension": ".py",
   "mimetype": "text/x-python",
   "name": "python",
   "nbconvert_exporter": "python",
   "pygments_lexer": "ipython3",
   "version": "3.9.12"
  }
 },
 "nbformat": 4,
 "nbformat_minor": 5
}
